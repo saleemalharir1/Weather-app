{
 "cells": [
  {
   "cell_type": "code",
   "execution_count": 1,
   "metadata": {},
   "outputs": [],
   "source": []
  },
  {
   "cell_type": "code",
   "execution_count": 37,
   "metadata": {},
   "outputs": [
    {
     "name": "stdout",
     "output_type": "stream",
     "text": [
      "Current temperature: 54.4°F\n",
      "Feels like: 52.0°F\n",
      "Humidity: 53%\n",
      "Wind speed: 6.29 mph\n",
      "Weather description: overcast clouds\n"
     ]
    }
   ],
   "source": [
    "def get_weather_data(location, api_key):\n",
    "    url = f'https://api.openweathermap.org/data/2.5/weather?q={location}&appid={api_key}'\n",
    "    response = requests.get(url)\n",
    "    return json.loads(response.text)\n",
    "\n",
    "def kelvin_to_fahrenheit(temp):\n",
    "    return round((temp - 273.15) * 9/5 + 32, 1)\n",
    "\n",
    "def display_weather_data(weather_data):\n",
    "    print(f'Current temperature: {kelvin_to_fahrenheit(weather_data[\"main\"][\"temp\"])}°F')\n",
    "    print(f'Feels like: {kelvin_to_fahrenheit(weather_data[\"main\"][\"feels_like\"])}°F')\n",
    "    print(f'Humidity: {weather_data[\"main\"][\"humidity\"]}%')\n",
    "    print(f'Wind speed: {weather_data[\"wind\"][\"speed\"]} mph')\n",
    "    print(f'Weather description: {weather_data[\"weather\"][0][\"description\"]}')\n",
    "    \n",
    "api_key = 'Your API Key HERE'\n",
    "location = input('Enter location: ')\n",
    "weather_data = get_weather_data(location, api_key)\n",
    "display_weather_data(weather_data)"
   ]
  },
  {
   "attachments": {},
   "cell_type": "markdown",
   "metadata": {},
   "source": [
    "# Create an instance of the Tk class, which is the main window of your application:"
   ]
  },
  {
   "cell_type": "code",
   "execution_count": 16,
   "metadata": {},
   "outputs": [],
   "source": [
    "import tkinter as tk\n",
    "import requests\n",
    "import json\n",
    "\n",
    "root = tk.Tk()\n",
    "root.title(\"Weather App\")\n",
    "\n",
    "# Create a label for the city input\n",
    "city_label = tk.Label(root, text=\"Enter a city:\")\n",
    "city_label.pack()\n",
    "\n",
    "# Create an entry box for the city input\n",
    "city_entry = tk.Entry(root)\n",
    "city_entry.pack()\n",
    "\n",
    "# get the screen width and height\n",
    "screen_width = root.winfo_screenwidth()\n",
    "screen_height = root.winfo_screenheight()\n",
    "\n",
    "# calculate the x and y positions to place the window in the center\n",
    "x_pos = int(screen_width / 2 - 400 / 2)\n",
    "y_pos = int(screen_height / 2 - 300 / 2)\n",
    "\n",
    "# set the window size and position\n",
    "root.geometry(f\"400x300+{x_pos}+{y_pos}\")\n",
    "\n",
    "# Create a button to retrieve the weather data\n",
    "def get_weather():\n",
    "    city = city_entry.get()\n",
    "    api_key = 'Your API Key HERE'\n",
    "    weather_url = f\"http://api.openweathermap.org/data/2.5/weather?q={city}&appid={api_key}&units=imperial\"\n",
    "    response = requests.get(weather_url)\n",
    "    weather_data = json.loads(response.text)\n",
    "    weather_label.config(text=f\"Temperature: {weather_data['main']['temp']}°F\\nHumidity: {weather_data['main']['humidity']}%\")\n",
    "\n",
    "weather_button = tk.Button(root, text=\"Get Weather\", command=get_weather)\n",
    "weather_button.pack()\n",
    "\n",
    "# Create a label to display the weather data\n",
    "weather_label = tk.Label(root)\n",
    "weather_label.pack()\n",
    "\n",
    "root.mainloop()\n"
   ]
  },
  {
   "cell_type": "code",
   "execution_count": null,
   "metadata": {},
   "outputs": [],
   "source": []
  }
 ],
 "metadata": {
  "kernelspec": {
   "display_name": "gpu2",
   "language": "python",
   "name": "gpu2"
  },
  "language_info": {
   "codemirror_mode": {
    "name": "ipython",
    "version": 3
   },
   "file_extension": ".py",
   "mimetype": "text/x-python",
   "name": "python",
   "nbconvert_exporter": "python",
   "pygments_lexer": "ipython3",
   "version": "3.6.13"
  },
  "orig_nbformat": 4
 },
 "nbformat": 4,
 "nbformat_minor": 2
}
